{
 "cells": [
  {
   "cell_type": "code",
   "execution_count": null,
   "metadata": {
    "id": "L0s0R5Kj951N",
    "tags": []
   },
   "outputs": [],
   "source": [
    "from langchain_openai import ChatOpenAI\n",
    "from langchain_core.messages import HumanMessage, SystemMessage\n",
    "from jupyter_chat import *\n",
    "import jupyter_chat\n",
    "from dotenv import load_dotenv\n",
    "import os\n",
    "from furhat_remote_api import FurhatRemoteAPI\n",
    "import asyncio\n",
    "import swagger_client  #Works??\n",
    "load_dotenv()\n",
    "\n",
    "api_key = os.getenv(\"OPENAI_API_KEY\")\n",
    "\n",
    "os.environ[\"OPENAI_API_KEY\"] = api_key"
   ]
  },
  {
   "cell_type": "code",
   "execution_count": null,
   "metadata": {
    "tags": []
   },
   "outputs": [],
   "source": [
    "class MyChatbot:\n",
    "\n",
    "    def __init__(self):\n",
    "        self.model = ChatOpenAI(model_name=\"gpt-4o-mini\", temperature=0.7)\n",
    "        self.systemPrompt = \"You are a helpful assistant\"\n",
    "        self.reset()\n",
    "\n",
    "    def prompt(self):\n",
    "        return [SystemMessage(content=self.systemPrompt)] + self.history\n",
    "\n",
    "    def question(self, question):\n",
    "        self.history.append(HumanMessage(content=question))\n",
    "    \n",
    "    def answer(self, question):\n",
    "        ai_message = self.model.invoke(self.prompt())\n",
    "        self.history.append(ai_message)\n",
    "        \n",
    "    def reset(self):\n",
    "        self.history = []"
   ]
  },
  {
   "cell_type": "code",
   "execution_count": null,
   "metadata": {},
   "outputs": [],
   "source": [
    "chatbot = MyChatbot()\n",
    "furhat = FurhatRemoteAPI(\"localhost\")\n",
    "furhat.attend\n",
    "furhat.say(text=\"Hello, I am a helpful assistant. How can I help you?\")\n",
    "speech = furhat.listen()"
   ]
  },
  {
   "cell_type": "code",
   "execution_count": 13,
   "metadata": {},
   "outputs": [
    {
     "name": "stdout",
     "output_type": "stream",
     "text": [
      "{'message': '', 'success': True}\n"
     ]
    }
   ],
   "source": [
    "print(speech)"
   ]
  }
 ],
 "metadata": {
  "colab": {
   "provenance": []
  },
  "kernelspec": {
   "display_name": "langchain",
   "language": "python",
   "name": "python3"
  },
  "language_info": {
   "codemirror_mode": {
    "name": "ipython",
    "version": 3
   },
   "file_extension": ".py",
   "mimetype": "text/x-python",
   "name": "python",
   "nbconvert_exporter": "python",
   "pygments_lexer": "ipython3",
   "version": "3.12.7"
  }
 },
 "nbformat": 4,
 "nbformat_minor": 4
}
