{
 "cells": [
  {
   "cell_type": "code",
   "execution_count": null,
   "metadata": {
    "id": "L0s0R5Kj951N",
    "tags": []
   },
   "outputs": [],
   "source": [
    "from jupyter_chat import *\n",
    "from langchain_openai import ChatOpenAI\n",
    "from langchain_core.messages import HumanMessage, SystemMessage\n",
    "from langchain import hub\n",
    "from langchain_chroma import Chroma\n",
    "from langchain_community.document_loaders import WebBaseLoader\n",
    "from langchain_core.output_parsers import StrOutputParser\n",
    "from langchain_core.runnables import RunnablePassthrough\n",
    "from langchain_openai import OpenAIEmbeddings\n",
    "from langchain_text_splitters import RecursiveCharacterTextSplitter\n",
    "from langchain_huggingface import HuggingFaceEmbeddings\n",
    "import bs4\n",
    "import re\n",
    "from dotenv import load_dotenv\n",
    "import os\n",
    "load_dotenv()\n",
    "\n",
    "api_key = os.getenv(\"OPENAI_API_KEY\")\n",
    "\n",
    "os.environ[\"OPENAI_API_KEY\"] = api_key"
   ]
  },
  {
   "cell_type": "code",
   "execution_count": null,
   "metadata": {},
   "outputs": [],
   "source": [
    "# Prepare document retriever\n",
    "\n",
    "# Load the document from a website\n",
    "loader = WebBaseLoader(\n",
    "    web_path=\"https://en.wikipedia.org/wiki/2024_United_States_presidential_election\"\n",
    ")\n",
    "docs = loader.load()\n",
    "\n",
    "# Split the document into parts\n",
    "text_splitter = RecursiveCharacterTextSplitter(chunk_size=1000, chunk_overlap=200)\n",
    "splits = text_splitter.split_documents(docs)"
   ]
  },
  {
   "cell_type": "code",
   "execution_count": null,
   "metadata": {},
   "outputs": [],
   "source": [
    "# Embed the parts and put them in a vectorstore\n",
    "embeddings = HuggingFaceEmbeddings(model_name=\"all-MiniLM-L6-v2\")\n",
    "vectorstore = Chroma.from_documents(documents=splits, embedding=embeddings)\n",
    "retriever = vectorstore.as_retriever()"
   ]
  },
  {
   "cell_type": "code",
   "execution_count": null,
   "metadata": {},
   "outputs": [],
   "source": [
    "# Define a function that combine a set of document parts into a string, also removing excessive whitespaces\n",
    "\n",
    "def documents_to_text(docs):\n",
    "    return \"\\n\\n\".join([re.sub(r'\\s+', ' ', doc.page_content) for doc in docs])"
   ]
  },
  {
   "cell_type": "code",
   "execution_count": null,
   "metadata": {},
   "outputs": [],
   "source": [
    "prompt_template = \\\n",
    "\"\"\"You are a helpful assistant. You know the following information:\n",
    "\n",
    "-----\n",
    "{0}\n",
    "-----\n",
    "\"\"\""
   ]
  },
  {
   "cell_type": "code",
   "execution_count": null,
   "metadata": {},
   "outputs": [],
   "source": [
    "# Define chatbot \n",
    "\n",
    "class MyChatbot:\n",
    "\n",
    "    def __init__(self):\n",
    "        self.model = ChatOpenAI(model_name=\"gpt-4o-mini\", temperature=0.7)\n",
    "        self.systemPrompt = \"\"\n",
    "        self.reset()\n",
    "\n",
    "    def prompt(self):\n",
    "        return [SystemMessage(content=self.systemPrompt)] + self.history\n",
    "        \n",
    "    def question(self, question):\n",
    "        self.history.append(HumanMessage(content=question))\n",
    "\n",
    "    def answer(self, question):\n",
    "        docs = retriever.get_relevant_documents(question)\n",
    "        information = documents_to_text(docs)\n",
    "        self.systemPrompt = prompt_template.format(information)\n",
    "        ai_message = self.model.invoke(self.prompt())\n",
    "        self.history.append(ai_message)\n",
    "        \n",
    "    def reset(self):\n",
    "        self.history = []"
   ]
  },
  {
   "cell_type": "code",
   "execution_count": null,
   "metadata": {
    "colab": {
     "base_uri": "https://localhost:8080/",
     "height": 443
    },
    "id": "Jz9jAh-w-WeV",
    "outputId": "ac58f0ca-4963-4f39-b563-9d5dcadf6da6",
    "tags": []
   },
   "outputs": [],
   "source": [
    "# Start chat\n",
    "\n",
    "chatbot = MyChatbot()\n",
    "\n",
    "start_chat(chatbot)"
   ]
  },
  {
   "cell_type": "code",
   "execution_count": null,
   "metadata": {},
   "outputs": [],
   "source": []
  }
 ],
 "metadata": {
  "colab": {
   "provenance": []
  },
  "kernelspec": {
   "display_name": "langchain",
   "language": "python",
   "name": "python3"
  },
  "language_info": {
   "codemirror_mode": {
    "name": "ipython",
    "version": 3
   },
   "file_extension": ".py",
   "mimetype": "text/x-python",
   "name": "python",
   "nbconvert_exporter": "python",
   "pygments_lexer": "ipython3",
   "version": "3.12.7"
  }
 },
 "nbformat": 4,
 "nbformat_minor": 4
}
