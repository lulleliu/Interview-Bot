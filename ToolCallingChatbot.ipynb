{
 "cells": [
  {
   "cell_type": "code",
   "execution_count": null,
   "metadata": {
    "id": "L0s0R5Kj951N",
    "tags": []
   },
   "outputs": [],
   "source": [
    "from langchain_openai import ChatOpenAI\n",
    "from langchain_core.messages import HumanMessage, SystemMessage, ToolMessage\n",
    "from langchain_core.tools import tool\n",
    "from jupyter_chat import *\n",
    "from dotenv import load_dotenv\n",
    "import os\n",
    "load_dotenv()\n",
    "\n",
    "api_key = os.getenv(\"OPENAI_API_KEY\")\n",
    "\n",
    "os.environ[\"OPENAI_API_KEY\"] = api_key"
   ]
  },
  {
   "cell_type": "code",
   "execution_count": null,
   "metadata": {},
   "outputs": [],
   "source": [
    "@tool\n",
    "def add(a: int, b: int) -> int:\n",
    "    \"\"\"Adds a and b.\n",
    "\n",
    "    Args:\n",
    "        a: first int\n",
    "        b: second int\n",
    "    \"\"\"\n",
    "    return a + b\n",
    "\n",
    "\n",
    "@tool\n",
    "def multiply(a: int, b: int) -> int:\n",
    "    \"\"\"Multiplies a and b.\n",
    "\n",
    "    Args:\n",
    "        a: first int\n",
    "        b: second int\n",
    "    \"\"\"\n",
    "    return a * b\n",
    "\n",
    "\n",
    "tools = [add, multiply]"
   ]
  },
  {
   "cell_type": "code",
   "execution_count": null,
   "metadata": {
    "tags": []
   },
   "outputs": [],
   "source": [
    "class MyChatbot:\n",
    "\n",
    "    def __init__(self):\n",
    "        self.systemPrompt = \"You are a helpful assistant\"\n",
    "        self.model = ChatOpenAI(model_name=\"gpt-4o-mini\", temperature=0.7).bind_tools(tools)\n",
    "        self.reset()\n",
    "\n",
    "    def prompt(self):\n",
    "        return [SystemMessage(content=self.systemPrompt)] + self.history\n",
    "\n",
    "    def question(self, question):\n",
    "        self.history.append(HumanMessage(content=question))\n",
    "    \n",
    "    def answer(self, question):\n",
    "        ai_message = self.model.invoke(self.prompt())\n",
    "        self.history.append(ai_message)\n",
    "        for tool_call in ai_message.tool_calls:\n",
    "            selected_tool = {\"add\": add, \"multiply\": multiply}[tool_call[\"name\"].lower()]\n",
    "            tool_output = selected_tool.invoke(tool_call[\"args\"])\n",
    "            self.history.append(ToolMessage(tool_output, tool_call_id=tool_call[\"id\"]))\n",
    "            ai_message = self.model.invoke(self.prompt())\n",
    "            self.history.append(ai_message)\n",
    "        \n",
    "    def reset(self):\n",
    "        self.history = []"
   ]
  },
  {
   "cell_type": "code",
   "execution_count": null,
   "metadata": {
    "colab": {
     "base_uri": "https://localhost:8080/",
     "height": 443
    },
    "id": "Jz9jAh-w-WeV",
    "outputId": "ac58f0ca-4963-4f39-b563-9d5dcadf6da6",
    "tags": []
   },
   "outputs": [],
   "source": [
    "chatbot = MyChatbot()\n",
    "\n",
    "start_chat(chatbot)"
   ]
  },
  {
   "cell_type": "code",
   "execution_count": null,
   "metadata": {},
   "outputs": [],
   "source": []
  }
 ],
 "metadata": {
  "colab": {
   "provenance": []
  },
  "kernelspec": {
   "display_name": "langchain",
   "language": "python",
   "name": "python3"
  },
  "language_info": {
   "codemirror_mode": {
    "name": "ipython",
    "version": 3
   },
   "file_extension": ".py",
   "mimetype": "text/x-python",
   "name": "python",
   "nbconvert_exporter": "python",
   "pygments_lexer": "ipython3",
   "version": "3.12.7"
  }
 },
 "nbformat": 4,
 "nbformat_minor": 4
}
